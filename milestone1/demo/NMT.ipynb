{
 "cells": [
  {
   "cell_type": "markdown",
   "metadata": {
    "id": "MPuqn8w_P77x"
   },
   "source": [
    "# marianMTModel\n",
    "- too slow\n",
    "- **Error might occur when using conda install for sentencepiece**\n",
    "## Requirements\n",
    "- pip install transformers\n",
    "- pip install sentencepiece\n",
    "- pip install sacremoses"
   ]
  },
  {
   "cell_type": "code",
   "execution_count": 24,
   "metadata": {
    "id": "sD2bkHhzgQeL"
   },
   "outputs": [],
   "source": [
    "import time\n",
    "from transformers import MarianMTModel, MarianTokenizer"
   ]
  },
  {
   "cell_type": "code",
   "execution_count": 27,
   "metadata": {
    "id": "lEcl_nsERD03"
   },
   "outputs": [],
   "source": [
    "def translate_text(text):\n",
    "    model_name = 'Helsinki-NLP/opus-mt-ko-en'\n",
    "    tokenizer = MarianTokenizer.from_pretrained(model_name)\n",
    "    model = MarianMTModel.from_pretrained(model_name)\n",
    "\n",
    "    translated = model.generate(**tokenizer(text, return_tensors=\"pt\", padding=True))\n",
    "    translated_text = tokenizer.decode(translated[0], skip_special_tokens=True)\n",
    "    print(f\"Original Text  : {text}\")\n",
    "    print(f\"Translated Text: {translated_text}\")\n",
    "    return translated_text"
   ]
  },
  {
   "cell_type": "code",
   "execution_count": 28,
   "metadata": {
    "colab": {
     "base_uri": "https://localhost:8080/",
     "height": 143
    },
    "id": "pVuR5M9mNu1o",
    "outputId": "8b90a1e4-4ae5-4762-f82e-fdb482b1b98d"
   },
   "outputs": [
    {
     "name": "stdout",
     "output_type": "stream",
     "text": [
      "Original Text  : 발사해\n",
      "Translated Text: Fire.\n",
      "Original Text  : 가장 가까운 좀비를 쏴\n",
      "Translated Text: Shoot the nearest zombie.\n",
      "Original Text  : 오른쪽의 좀비를 조준해\n",
      "Translated Text: Target the zombies on the right.\n"
     ]
    },
    {
     "data": {
      "application/vnd.google.colaboratory.intrinsic+json": {
       "type": "string"
      },
      "text/plain": [
       "'Target the zombies on the right.'"
      ]
     },
     "execution_count": 28,
     "metadata": {},
     "output_type": "execute_result"
    }
   ],
   "source": [
    "# Examples\n",
    "korean_text = \"발사해\"\n",
    "translate_text(korean_text)\n",
    "korean_text = \"가장 가까운 좀비를 쏴\"\n",
    "translate_text(korean_text)\n",
    "korean_text = \"오른쪽의 좀비를 조준해\"\n",
    "translate_text(korean_text)"
   ]
  },
  {
   "cell_type": "code",
   "execution_count": 30,
   "metadata": {
    "colab": {
     "base_uri": "https://localhost:8080/"
    },
    "id": "LMaRlRiJhpH_",
    "outputId": "2fcc6f83-0995-46a9-c002-c284c3aad8b2"
   },
   "outputs": [
    {
     "name": "stdout",
     "output_type": "stream",
     "text": [
      "Original Text  : 다 쏴버려\n",
      "Translated Text: Shoot them all.\n",
      "Execution Time: 3.649712324142456 seconds\n"
     ]
    }
   ],
   "source": [
    "korean_text = \"다 쏴버려\"\n",
    "start_time = time.time()\n",
    "translate_text(korean_text)\n",
    "end_time = time.time()\n",
    "\n",
    "execution_time = end_time - start_time\n",
    "print(f\"Execution Time: {execution_time} seconds\")"
   ]
  },
  {
   "cell_type": "markdown",
   "metadata": {
    "id": "AnCZJkFsQLMk"
   },
   "source": [
    "# Argostranslate\n",
    "- Using marianMT as a base\n",
    "- faster\n",
    "- slightly lower quality\n",
    "## Requirements\n",
    "- pip install argostranslate\n",
    "- pip install sacremoeses"
   ]
  },
  {
   "cell_type": "code",
   "execution_count": 34,
   "metadata": {
    "colab": {
     "base_uri": "https://localhost:8080/"
    },
    "id": "QsinbJPjOiRs",
    "outputId": "e5763899-d8fe-4d87-e17d-c9a1ead4f0bb"
   },
   "outputs": [
    {
     "name": "stdout",
     "output_type": "stream",
     "text": [
      "ko-en package installed\n"
     ]
    }
   ],
   "source": [
    "import argostranslate.package\n",
    "import argostranslate.translate\n",
    "\n",
    "def install_korean_to_english_package():\n",
    "    argostranslate.package.update_package_index()\n",
    "    available_packages = argostranslate.package.get_available_packages()\n",
    "\n",
    "    ko_en_packages = [pkg for pkg in available_packages if pkg.from_code == \"ko\" and pkg.to_code == \"en\"]\n",
    "\n",
    "    if not ko_en_packages:\n",
    "        print(\"No ko-en packages found\")\n",
    "        return\n",
    "\n",
    "    package_to_install = ko_en_packages[0]\n",
    "    download_path = package_to_install.download()\n",
    "    argostranslate.package.install_from_path(download_path)\n",
    "    print(\"ko-en package installed\")\n",
    "\n",
    "install_korean_to_english_package()"
   ]
  },
  {
   "cell_type": "code",
   "execution_count": 35,
   "metadata": {
    "id": "OXn2IMg5iHrU"
   },
   "outputs": [],
   "source": [
    "def translate_text2(text):\n",
    "    translated_text = argostranslate.translate.translate(text, \"ko\", \"en\")\n",
    "    print(f\"Original Text  : {text}\")\n",
    "    print(f\"Translated Text: {translated_text}\")\n",
    "    return translated_text"
   ]
  },
  {
   "cell_type": "code",
   "execution_count": 36,
   "metadata": {
    "colab": {
     "base_uri": "https://localhost:8080/",
     "height": 198
    },
    "id": "ybqPb5uIQz4T",
    "outputId": "13594503-314d-47e8-999b-2a93af288276"
   },
   "outputs": [
    {
     "name": "stderr",
     "output_type": "stream",
     "text": [
      "/usr/local/lib/python3.10/dist-packages/stanza/models/tokenize/trainer.py:85: FutureWarning: You are using `torch.load` with `weights_only=False` (the current default value), which uses the default pickle module implicitly. It is possible to construct malicious pickle data which will execute arbitrary code during unpickling (See https://github.com/pytorch/pytorch/blob/main/SECURITY.md#untrusted-models for more details). In a future release, the default value for `weights_only` will be flipped to `True`. This limits the functions that could be executed during unpickling. Arbitrary objects will no longer be allowed to be loaded via this mode unless they are explicitly allowlisted by the user via `torch.serialization.add_safe_globals`. We recommend you start setting `weights_only=True` for any use case where you don't have full control of the loaded file. Please open an issue on GitHub for any issues related to this experimental feature.\n",
      "  checkpoint = torch.load(filename, lambda storage, loc: storage)\n"
     ]
    },
    {
     "name": "stdout",
     "output_type": "stream",
     "text": [
      "Original Text  : 발사해\n",
      "Translated Text: Notice\n",
      "Original Text  : 가장 가까운 좀비를 쏴\n",
      "Translated Text: Shoot the nearest zombies\n",
      "Original Text  : 오른쪽의 좀비를 조준해\n",
      "Translated Text: Aiming the zombies on the right\n"
     ]
    },
    {
     "data": {
      "application/vnd.google.colaboratory.intrinsic+json": {
       "type": "string"
      },
      "text/plain": [
       "'Aiming the zombies on the right'"
      ]
     },
     "execution_count": 36,
     "metadata": {},
     "output_type": "execute_result"
    }
   ],
   "source": [
    "# Examples\n",
    "korean_text = \"발사해\"\n",
    "translate_text2(korean_text)\n",
    "korean_text = \"가장 가까운 좀비를 쏴\"\n",
    "translate_text2(korean_text)\n",
    "korean_text = \"오른쪽의 좀비를 조준해\"\n",
    "translate_text2(korean_text)"
   ]
  },
  {
   "cell_type": "code",
   "execution_count": 38,
   "metadata": {
    "colab": {
     "base_uri": "https://localhost:8080/"
    },
    "id": "MSYYr5IXiMMW",
    "outputId": "8c88a1e0-8a96-402b-ddac-1699e4e5871d"
   },
   "outputs": [
    {
     "name": "stdout",
     "output_type": "stream",
     "text": [
      "Original Text  : 다 쏴버려\n",
      "Translated Text: Shoot\n",
      "Execution Time: 0.153533935546875 seconds\n"
     ]
    },
    {
     "name": "stderr",
     "output_type": "stream",
     "text": [
      "/usr/local/lib/python3.10/dist-packages/stanza/models/tokenize/trainer.py:85: FutureWarning: You are using `torch.load` with `weights_only=False` (the current default value), which uses the default pickle module implicitly. It is possible to construct malicious pickle data which will execute arbitrary code during unpickling (See https://github.com/pytorch/pytorch/blob/main/SECURITY.md#untrusted-models for more details). In a future release, the default value for `weights_only` will be flipped to `True`. This limits the functions that could be executed during unpickling. Arbitrary objects will no longer be allowed to be loaded via this mode unless they are explicitly allowlisted by the user via `torch.serialization.add_safe_globals`. We recommend you start setting `weights_only=True` for any use case where you don't have full control of the loaded file. Please open an issue on GitHub for any issues related to this experimental feature.\n",
      "  checkpoint = torch.load(filename, lambda storage, loc: storage)\n"
     ]
    }
   ],
   "source": [
    "korean_text = \"다 쏴버려\"\n",
    "start_time = time.time()\n",
    "translate_text2(korean_text)\n",
    "end_time = time.time()\n",
    "\n",
    "execution_time = end_time - start_time\n",
    "print(f\"Execution Time: {execution_time} seconds\")"
   ]
  }
 ],
 "metadata": {
  "colab": {
   "provenance": []
  },
  "kernelspec": {
   "display_name": "Python 3",
   "name": "python3"
  },
  "language_info": {
   "name": "python"
  }
 },
 "nbformat": 4,
 "nbformat_minor": 0
}
