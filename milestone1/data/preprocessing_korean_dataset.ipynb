{
 "cells": [
  {
   "cell_type": "code",
   "execution_count": 12,
   "metadata": {},
   "outputs": [],
   "source": [
    "import pickle\n",
    "import os"
   ]
  },
  {
   "cell_type": "markdown",
   "metadata": {},
   "source": [
    "#### Make id2char, char2id"
   ]
  },
  {
   "cell_type": "code",
   "execution_count": null,
   "metadata": {},
   "outputs": [
    {
     "name": "stdout",
     "output_type": "stream",
     "text": [
      "총 데이터 수: 628545\n",
      "예시 데이터: ('KsponSpeech_05/KsponSpeech_0621/KsponSpeech_620006.pcm', '다 뿌신다고')\n"
     ]
    }
   ],
   "source": [
    "# 데이터 경로 설정\n",
    "scripts_path = \"/graduate/graduate/Studio_project/10.한국어음성/scripts\"\n",
    "file_list = [\"dev.trn\", \"eval_clean.trn\", \"eval_other.trn\", \"train.trn\"]\n",
    "\n",
    "# 모든 데이터를 담을 리스트\n",
    "all_data = []\n",
    "\n",
    "# 각 파일 읽기\n",
    "for file_name in file_list:\n",
    "    file_path = os.path.join(scripts_path, file_name)\n",
    "    with open(file_path, \"r\", encoding=\"utf-8\") as f:\n",
    "        lines = f.readlines()\n",
    "        for line in lines:\n",
    "            # \"::\" 구분자로 데이터 분리\n",
    "            parts = line.strip().split(\"::\")\n",
    "            if len(parts) == 2:  # 두 부분으로 나뉜 경우만 처리\n",
    "                audio_path = parts[0].strip()  # 음성 파일 경로\n",
    "                transcript = parts[1].strip()  # 자막\n",
    "                all_data.append((audio_path, transcript))\n",
    "\n",
    "# 데이터 확인\n",
    "print(\"총 데이터 수:\", len(all_data))\n",
    "print(\"예시 데이터:\", all_data[5])\n"
   ]
  },
  {
   "cell_type": "code",
   "execution_count": 13,
   "metadata": {},
   "outputs": [
    {
     "name": "stdout",
     "output_type": "stream",
     "text": [
      "총 문자 수: 2350\n",
      "char2id 예시: [(' ', 0), ('!', 1), ('%', 2), ('&', 3), ('(', 4), (')', 5), ('*', 6), ('+', 7), (',', 8), ('-', 9)]\n",
      "id2char 예시: [(0, ' '), (1, '!'), (2, '%'), (3, '&'), (4, '('), (5, ')'), (6, '*'), (7, '+'), (8, ','), (9, '-')]\n",
      "char2id와 id2char 저장 완료\n"
     ]
    }
   ],
   "source": [
    "# 모든 자막 데이터를 합쳐서 문자 집합 생성\n",
    "all_transcripts = [transcript for _, transcript in all_data]\n",
    "all_text = \"\".join(all_transcripts)  # 모든 자막 문자열 합치기\n",
    "char_set = sorted(set(all_text))    # 고유 문자 집합 생성 (정렬 포함)\n",
    "\n",
    "# char2id와 id2char 생성\n",
    "char2id = {char: idx for idx, char in enumerate(char_set)}\n",
    "id2char = {idx: char for idx, char in enumerate(char_set)}\n",
    "\n",
    "# 결과 확인\n",
    "print(\"총 문자 수:\", len(char_set))\n",
    "print(\"char2id 예시:\", list(char2id.items())[:10])\n",
    "print(\"id2char 예시:\", list(id2char.items())[:10])\n",
    "\n",
    "# char2id와 id2char 저장 (Pickle 파일로 저장)\n",
    "save_path = \"/graduate/graduate/Studio_project/korean-speech-recognition-quartznet/datasets/meta/aihub\"\n",
    "os.makedirs(save_path,exist_ok=True)\n",
    "with open(f\"{save_path}/char2id.pkl\", \"wb\") as f:\n",
    "    pickle.dump(char2id, f)\n",
    "with open(f\"{save_path}/id2char.pkl\", \"wb\") as f:\n",
    "    pickle.dump(id2char, f)\n",
    "\n",
    "print(\"char2id와 id2char 저장 완료\")\n"
   ]
  },
  {
   "cell_type": "markdown",
   "metadata": {},
   "source": [
    "#### Make train data"
   ]
  },
  {
   "cell_type": "code",
   "execution_count": 17,
   "metadata": {},
   "outputs": [],
   "source": [
    "base_path = \"/graduate/graduate/Studio_project/10.한국어음성/KsponSpeech_01\"\n",
    "\n",
    "# train_data를 저장할 리스트\n",
    "train_data = []\n",
    "\n",
    "# KsponSpeech_01의 모든 하위 폴더 순회\n",
    "for root, dirs, files in os.walk(base_path):\n",
    "    for file in files:\n",
    "        if file.endswith(\".txt\"):  # 자막 파일만 처리\n",
    "            txt_path = os.path.join(root, file)\n",
    "            pcm_path = txt_path.replace(\".txt\", \".pcm\")  # 동일 이름의 .pcm 파일 경로\n",
    "\n",
    "            # 자막 읽기\n",
    "            with open(txt_path, \"r\", encoding=\"cp949\") as f:\n",
    "                transcript = f.read().strip()  # 자막 파일에서 텍스트 읽기\n",
    "\n",
    "            # train_data에 추가\n",
    "            train_data.append((pcm_path, transcript))\n",
    "\n",
    "# train_data를 pickle 파일로 저장\n",
    "with open(f\"{save_path}/train_data.pkl\", \"wb\") as f:\n",
    "    pickle.dump(train_data, f)\n"
   ]
  },
  {
   "cell_type": "markdown",
   "metadata": {},
   "source": [
    "#### Make test data"
   ]
  },
  {
   "cell_type": "code",
   "execution_count": 20,
   "metadata": {},
   "outputs": [],
   "source": [
    "test_pcm_path = \"/graduate/graduate/Studio_project/10.한국어음성/eval/eval_clean\"\n",
    "\n",
    "# test_data를 저장할 리스트\n",
    "test_data = []\n",
    "\n",
    "# .pcm 파일만 추가\n",
    "for root, dirs, files in os.walk(test_pcm_path):\n",
    "    for file in files:\n",
    "        if file.endswith(\".pcm\"):\n",
    "            pcm_path = os.path.join(root, file)\n",
    "            test_data.append((pcm_path, \"\"))  # 자막이 없으므로 빈 문자열로 대체\n",
    "\n",
    "# test_data를 pickle 파일로 저장\n",
    "with open(f\"{save_path}/test_data.pkl\", \"wb\") as f:\n",
    "    pickle.dump(test_data, f)\n"
   ]
  },
  {
   "cell_type": "markdown",
   "metadata": {},
   "source": [
    "#### Playground"
   ]
  },
  {
   "cell_type": "code",
   "execution_count": 2,
   "metadata": {},
   "outputs": [
    {
     "name": "stdout",
     "output_type": "stream",
     "text": [
      "KsponSpeech_01/KsponSpeech_0001/KsponSpeech_000001.pcm :: 아/ 몬 소리야, 그건 또. b/\n",
      "KsponSpeech_01/KsponSpeech_0001/KsponSpeech_000002.pcm :: 나는 악습은 원래 없어진다+ 없어져야 된다고 생각하긴 했는데 근데 그/ 약간 필요악으로 하나 정도쯤은 있어야 되거든. 물 뜨러 가고.\n",
      "KsponSpeech_01/KsponSpeech_0001/KsponSpeech_000003.pcm :: b/ n/ 그래서 지호랑 계단 n/ 올라와서 b/ 막 위에 운동하는 기구 있대요. b/ 그서 그걸로 운동 할려구요. b/ n/\n",
      "KsponSpeech_01/KsponSpeech_0001/KsponSpeech_000004.pcm :: 뭐/ 정신과 병원도 그 약 타서 먹어보고, 그 한동안 연락이 안 된 적이 있었단 말이야. 그때가 언제였 언제였더라?\n"
     ]
    }
   ],
   "source": [
    "path = '/graduate/graduate/Studio_project/10.한국어음성/scripts/train.trn'\n",
    "# 파일 읽기\n",
    "with open(path, 'r', encoding='utf-8') as file:\n",
    "    lines = file.readlines()\n",
    "\n",
    "# 출력 확인\n",
    "for line in lines[:4]:\n",
    "    print(line.strip())  # 각 줄의 공백 제거 후 출력"
   ]
  },
  {
   "cell_type": "code",
   "execution_count": 3,
   "metadata": {},
   "outputs": [
    {
     "data": {
      "text/plain": [
       "620000"
      ]
     },
     "execution_count": 3,
     "metadata": {},
     "output_type": "execute_result"
    }
   ],
   "source": [
    "len(lines)"
   ]
  },
  {
   "cell_type": "code",
   "execution_count": 5,
   "metadata": {},
   "outputs": [
    {
     "name": "stdout",
     "output_type": "stream",
     "text": [
      "Line 1: 아/ 몬 소리야, 그건 또. b/\n"
     ]
    }
   ],
   "source": [
    "sample_path = '/graduate/graduate/Studio_project/10.한국어음성/KsponSpeech_01/KsponSpeech_0001/KsponSpeech_000001.txt'\n",
    "with open(sample_path, 'r', encoding='cp949') as file:\n",
    "    lines = file.readlines()\n",
    "\n",
    "# 내용 출력\n",
    "for i, line in enumerate(lines):\n",
    "    print(f\"Line {i+1}: {line.strip()}\")"
   ]
  }
 ],
 "metadata": {
  "kernelspec": {
   "display_name": "Python 3",
   "language": "python",
   "name": "python3"
  },
  "language_info": {
   "codemirror_mode": {
    "name": "ipython",
    "version": 3
   },
   "file_extension": ".py",
   "mimetype": "text/x-python",
   "name": "python",
   "nbconvert_exporter": "python",
   "pygments_lexer": "ipython3",
   "version": "3.8.10"
  }
 },
 "nbformat": 4,
 "nbformat_minor": 2
}
